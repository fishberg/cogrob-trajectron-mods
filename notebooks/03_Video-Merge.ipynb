{
 "cells": [
  {
   "cell_type": "markdown",
   "metadata": {},
   "source": [
    "# Notebook Overview\n",
    "This Notebook takes the frames produced by `02_Evaluate-Data` as well as data provided by team members and creates final videos useful for result comparison and analysis. Merged plots and video outputs appear in the `../data/06_merged-plots` directory.\n",
    "\n",
    "This is by far the \"least polished\" Notebook of the bunch (i.e. lots of awkward variable names and magic numbers). This is because this code used to make one-off videos and graphics for our presentation/report. The code is included for reference. Any of the projects comparison videos/graphics can be produced again from this notebook with minimal edits."
   ]
  },
  {
   "cell_type": "code",
   "execution_count": null,
   "metadata": {},
   "outputs": [],
   "source": [
    "import cv2\n",
    "import numpy as np\n",
    "import sys\n",
    "import os\n",
    "from tqdm.notebook import tqdm"
   ]
  },
  {
   "cell_type": "markdown",
   "metadata": {},
   "source": [
    "# Constants"
   ]
  },
  {
   "cell_type": "code",
   "execution_count": null,
   "metadata": {},
   "outputs": [],
   "source": [
    "INDEX_FRAMES = 254 # from 0 - 253 inclusive\n",
    "MERGE_TEMPLATE = '../data/06_merged-plots/%06d.jpg'\n",
    "ANDREW_TEMPLATE = '../data/04_plots/%06d.jpg'\n",
    "ABBIE_TEMPLATE = '../data/05_team-plots/abbie/%06d.jpg'\n",
    "SHILOH_TEMPLATE = '../data/05_team-plots/shiloh/%06d.jpg'\n",
    "SANDRO_TEMPLATE = '../data/05_team-plots/sandro/%06d.jpg'\n",
    "SANDRO_INFILE = '../data/misc/run5.mp4'\n",
    "SANDRO_FRAMES = 2099"
   ]
  },
  {
   "cell_type": "markdown",
   "metadata": {},
   "source": [
    "# Extract Individual Frames from Sandro's Recording"
   ]
  },
  {
   "cell_type": "code",
   "execution_count": null,
   "metadata": {},
   "outputs": [],
   "source": [
    "cap = cv2.VideoCapture(SANDRO_INFILE)\n",
    "\n",
    "frame_count = 0\n",
    "while True:\n",
    "    succ, frame = cap.read()\n",
    "    if not succ:\n",
    "        break\n",
    "    \n",
    "    window = frame[28:881,254:1385]\n",
    "    resized = cv2.resize(window, (640,480))\n",
    "        \n",
    "    OUTFILE = SANDRO_TEMPLATE % frame_count\n",
    "    if frame_count % 100 == 0:\n",
    "        print('Writing frame:', OUTFILE)\n",
    "    cv2.imwrite(OUTFILE,resized)\n",
    "    frame_count += 1\n",
    "\n",
    "cap.release()"
   ]
  },
  {
   "cell_type": "markdown",
   "metadata": {},
   "source": [
    "# Frame Sync Helper\n",
    "To get equally spaced sampled raw data from CARLA, the animation loop could not be regulated at a continuous rate. Thus the recording of the data collection Sandro produced did not maintain a consistent frame rate related to the data logs. The values in `sandro_stitch` and `others_stitch` were hand selected as \"anchor points\" matching frames in Sandro's data collect recording to the analysis plots produced by these scripts and others. Values between anchor points are linearly interpolated to keep the overall video approximately synchronized throughout."
   ]
  },
  {
   "cell_type": "code",
   "execution_count": null,
   "metadata": {},
   "outputs": [],
   "source": [
    "# sandro_stitch: frame \n",
    "sandro_stitch = [8,233,318,497,676,886,1057,1104,1765,2065, 2100]\n",
    "others_stitch = [0, 30, 40, 60, 82,106, 129, 136, 221, 261,  270]\n",
    "\n",
    "# correct frames to my internal frame count\n",
    "others_stitch = [x-9 for x in others_stitch]\n",
    "\n",
    "def get_sandro_idx(t):\n",
    "    i = 0\n",
    "    while t >= others_stitch[i]:\n",
    "        i += 1\n",
    "    \n",
    "    l = i - 1\n",
    "    h = i\n",
    "    \n",
    "    ratio = (sandro_stitch[h] - sandro_stitch[l]) / (others_stitch[h] - others_stitch[l])\n",
    "    val = ratio * (t - others_stitch[l]) + sandro_stitch[l]\n",
    "    return int(val)"
   ]
  },
  {
   "cell_type": "markdown",
   "metadata": {},
   "source": [
    "# Merge All\n",
    "Merges Sandro's data collect recording and the three analysis frames into a single frame. Writes frames to `../data/06_merged-plots`."
   ]
  },
  {
   "cell_type": "code",
   "execution_count": null,
   "metadata": {},
   "outputs": [],
   "source": [
    "# merge all\n",
    "\n",
    "for t in tqdm(range(INDEX_FRAMES)):\n",
    "    #sandro_idx = int(SANDRO_FRAMES * t / (INDEX_FRAMES - 1))\n",
    "    #sandro_idx = int(70/9 * (t+8))\n",
    "    sandro_idx = get_sandro_idx(t)\n",
    "    top_left = cv2.imread(SANDRO_TEMPLATE % sandro_idx)\n",
    "    top_right = cv2.imread(ANDREW_TEMPLATE % t)\n",
    "    bot_left = cv2.imread(ABBIE_TEMPLATE % t)\n",
    "    bot_right = cv2.imread(SHILOH_TEMPLATE % t)\n",
    "        \n",
    "    assert top_left.shape == top_right.shape == bot_left.shape == bot_right.shape\n",
    "    \n",
    "    frame = np.zeros((20+480*2,640*2,3))\n",
    "    frame[:,:,:] = 255\n",
    "    frame[0:480,0:640,:] = top_left\n",
    "    frame[0:480,640:,:] = top_right\n",
    "    frame[20+480:,0:640,:] = bot_left\n",
    "    frame[20+480:,640:,:] = bot_right\n",
    "    \n",
    "    frame[13:50,18:288] = 255\n",
    "    \n",
    "    font                   = cv2.FONT_HERSHEY_SIMPLEX\n",
    "    fontScale              = 1\n",
    "    fontColor              = (0,0,0)\n",
    "    lineType               = 2\n",
    "        \n",
    "    cv2.putText(frame, 'CARLA Recording', (20, 40), font, fontScale, fontColor, lineType)\n",
    "    cv2.putText(frame, 'Trajectron++', (640+20, 40), font, fontScale, fontColor, lineType)\n",
    "    cv2.putText(frame, 'Constant Velocity Model (CVM)', (20, 480+40), font, fontScale, fontColor, lineType)\n",
    "    cv2.putText(frame, 'CVM + Angular Velocity', (640+20, 480+40), font, fontScale, fontColor, lineType)\n",
    "    \n",
    "    cv2.imwrite(MERGE_TEMPLATE % t, frame)    "
   ]
  },
  {
   "cell_type": "markdown",
   "metadata": {},
   "source": [
    "# Merge One\n",
    "Merges Sandro's data collect recording with one of the three analysis frames into a single frame. Writes frames to `../data/06_merged-plots`. Warning: If run after previous cell, it will overwrite your results."
   ]
  },
  {
   "cell_type": "code",
   "execution_count": null,
   "metadata": {},
   "outputs": [],
   "source": [
    "# merge one\n",
    "\n",
    "for t in tqdm(range(INDEX_FRAMES)):\n",
    "    sandro_idx = get_sandro_idx(t)\n",
    "    left = cv2.imread(SANDRO_TEMPLATE % sandro_idx)\n",
    "    right = cv2.imread(ANDREW_TEMPLATE % t)\n",
    "    #right = cv2.imread(ABBIE_TEMPLATE % t)\n",
    "    #right = cv2.imread(SHILOH_TEMPLATE % t)\n",
    "    \n",
    "    assert top_left.shape == top_right.shape == bot_left.shape == bot_right.shape\n",
    "    \n",
    "    frame = np.zeros((480,640*2,3))\n",
    "    frame[:,0:640,:] = left\n",
    "    frame[:,640:,:] = right\n",
    "    \n",
    "    cv2.imwrite(MERGE_TEMPLATE % t, frame)    "
   ]
  },
  {
   "cell_type": "markdown",
   "metadata": {},
   "source": [
    "# FFMPEG\n",
    "These commands run `ffmpeg` in the `../data/06_merged-plots` directory to create video files from all the individual plots. Google Slides cannot play videos at 8fps, so the second command converts the video to a more standard 30fps."
   ]
  },
  {
   "cell_type": "code",
   "execution_count": null,
   "metadata": {},
   "outputs": [],
   "source": [
    "!ffmpeg -y -framerate 8 -i ../data/06_merged-plots/%06d.jpg ../data/06_merged-plots/video_8fps.mp4"
   ]
  },
  {
   "cell_type": "code",
   "execution_count": null,
   "metadata": {},
   "outputs": [],
   "source": [
    "!ffmpeg -y -i ../data/06_merged-plots/video_8fps.mp4 -r 30 ../data/06_merged-plots/video.mp4"
   ]
  },
  {
   "cell_type": "code",
   "execution_count": null,
   "metadata": {},
   "outputs": [],
   "source": []
  }
 ],
 "metadata": {
  "kernelspec": {
   "display_name": "Python 3.6 (Trajectron++)",
   "language": "python",
   "name": "trajectronpp"
  },
  "language_info": {
   "codemirror_mode": {
    "name": "ipython",
    "version": 3
   },
   "file_extension": ".py",
   "mimetype": "text/x-python",
   "name": "python",
   "nbconvert_exporter": "python",
   "pygments_lexer": "ipython3",
   "version": "3.6.10"
  }
 },
 "nbformat": 4,
 "nbformat_minor": 4
}
