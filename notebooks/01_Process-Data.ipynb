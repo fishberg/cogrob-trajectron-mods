{
 "cells": [
  {
   "cell_type": "markdown",
   "metadata": {},
   "source": [
    "# Notebook Overview\n",
    "This Notebook takes `../data/03_preprocessed/01_data.csv`, produced by the previous Notebook `00_Process-CARLA-Output.ipynb`, and produces an `Enviornment` object to be used with Trajectron++. The `Environment` object is saved to a pickle file, `../data/03_preprocessed/02_data.pkl`, to be used with the next Notebook, `02_Evaluate-Data.ipynb`.\n",
    "\n",
    "Much of the code in this Notebook is adapted from code found in Trajectron++'s `Trajectron-plus-plus/experiments/nuScenes/process_data.py` script."
   ]
  },
  {
   "cell_type": "code",
   "execution_count": null,
   "metadata": {},
   "outputs": [],
   "source": [
    "import sys\n",
    "import os\n",
    "import numpy as np\n",
    "import pandas as pd\n",
    "import dill\n",
    "import argparse\n",
    "#from tqdm import tqdm\n",
    "from pyquaternion import Quaternion\n",
    "#from kalman_filter import NonlinearKinematicBicycle\n",
    "from sklearn.model_selection import train_test_split\n",
    "\n",
    "#nu_path = './devkit/python-sdk/'\n",
    "#sys.path.append(nu_path)\n",
    "sys.path.append(\"../../../trajectron\")\n",
    "#from nuscenes.nuscenes import NuScenes\n",
    "#from nuscenes.map_expansion.map_api import NuScenesMap\n",
    "#from nuscenes.utils.splits import create_splits_scenes\n",
    "from environment import Environment, Scene, Node, GeometricMap, derivative_of\n",
    "\n",
    "from tqdm.notebook import tqdm"
   ]
  },
  {
   "cell_type": "markdown",
   "metadata": {},
   "source": [
    "# Config Constants"
   ]
  },
  {
   "cell_type": "code",
   "execution_count": null,
   "metadata": {},
   "outputs": [],
   "source": [
    "# Config Constants\n",
    "FREQUENCY = 3 # this needs to match data sampling frequency\n",
    "dt = 1 / FREQUENCY\n",
    "\n",
    "INFILE = '../data/03_preprocessed/01_data.csv'\n",
    "OUTFILE = '../data/03_preprocessed/02_data.pkl'"
   ]
  },
  {
   "cell_type": "markdown",
   "metadata": {},
   "source": [
    "# Boiler Plate"
   ]
  },
  {
   "cell_type": "code",
   "execution_count": null,
   "metadata": {},
   "outputs": [],
   "source": [
    "data_columns_vehicle = pd.MultiIndex.from_product([['position', 'velocity', 'acceleration', 'heading'], ['x', 'y']])\n",
    "data_columns_vehicle = data_columns_vehicle.append(pd.MultiIndex.from_tuples([('heading', '°'), ('heading', 'd°')]))\n",
    "data_columns_vehicle = data_columns_vehicle.append(pd.MultiIndex.from_product([['velocity', 'acceleration'], ['norm']]))\n",
    "\n",
    "data_columns_pedestrian = pd.MultiIndex.from_product([['position', 'velocity', 'acceleration'], ['x', 'y']])\n",
    "\n",
    "standardization = {\n",
    "    'PEDESTRIAN': {\n",
    "        'position': {\n",
    "            'x': {'mean': 0, 'std': 1},\n",
    "            'y': {'mean': 0, 'std': 1}\n",
    "        },\n",
    "        'velocity': {\n",
    "            'x': {'mean': 0, 'std': 2},\n",
    "            'y': {'mean': 0, 'std': 2}\n",
    "        },\n",
    "        'acceleration': {\n",
    "            'x': {'mean': 0, 'std': 1},\n",
    "            'y': {'mean': 0, 'std': 1}\n",
    "        }\n",
    "    },\n",
    "    'VEHICLE': {\n",
    "        'position': {\n",
    "            'x': {'mean': 0, 'std': 80},\n",
    "            'y': {'mean': 0, 'std': 80}\n",
    "        },\n",
    "        'velocity': {\n",
    "            'x': {'mean': 0, 'std': 15},\n",
    "            'y': {'mean': 0, 'std': 15},\n",
    "            'norm': {'mean': 0, 'std': 15}\n",
    "        },\n",
    "        'acceleration': {\n",
    "            'x': {'mean': 0, 'std': 4},\n",
    "            'y': {'mean': 0, 'std': 4},\n",
    "            'norm': {'mean': 0, 'std': 4}\n",
    "        },\n",
    "        'heading': {\n",
    "            'x': {'mean': 0, 'std': 1},\n",
    "            'y': {'mean': 0, 'std': 1},\n",
    "            '°': {'mean': 0, 'std': np.pi},\n",
    "            'd°': {'mean': 0, 'std': 1}\n",
    "        }\n",
    "    }\n",
    "}"
   ]
  },
  {
   "cell_type": "markdown",
   "metadata": {},
   "source": [
    "# Initialize Empty Environmnet"
   ]
  },
  {
   "cell_type": "code",
   "execution_count": null,
   "metadata": {},
   "outputs": [],
   "source": [
    "env = Environment(node_type_list=['VEHICLE', 'PEDESTRIAN'], standardization=standardization)\n",
    "\n",
    "attention_radius = dict()\n",
    "attention_radius[(env.NodeType.PEDESTRIAN, env.NodeType.PEDESTRIAN)] = 10.0\n",
    "attention_radius[(env.NodeType.PEDESTRIAN, env.NodeType.VEHICLE)] = 20.0\n",
    "attention_radius[(env.NodeType.VEHICLE, env.NodeType.PEDESTRIAN)] = 20.0\n",
    "attention_radius[(env.NodeType.VEHICLE, env.NodeType.VEHICLE)] = 30.0\n",
    "\n",
    "env.attention_radius = attention_radius\n",
    "env.robot_type = None\n",
    "scenes = []"
   ]
  },
  {
   "cell_type": "markdown",
   "metadata": {},
   "source": [
    "# Create Trajectron++ DataFrame from Our CSV Format"
   ]
  },
  {
   "cell_type": "code",
   "execution_count": null,
   "metadata": {},
   "outputs": [],
   "source": [
    "df = pd.read_csv(INFILE)\n",
    "\n",
    "data = pd.DataFrame(columns=['frame_id',\n",
    "                             'type',\n",
    "                             'node_id',\n",
    "                             'robot',\n",
    "                             'x', 'y', 'z',\n",
    "                             'length',\n",
    "                             'width',\n",
    "                             'height',\n",
    "                             'heading'])\n",
    "\n",
    "for i in tqdm(range(df.shape[0])):\n",
    "    row = df.iloc[i]\n",
    "    data_point = pd.Series({'frame_id': int(row['Frame']),\n",
    "                            'type': env.NodeType.VEHICLE,\n",
    "                            'node_id': int(row['NodeID']),\n",
    "                            'robot': False,\n",
    "                            'x': row['Pos_X'],\n",
    "                            'y': row['Pos_Y'],\n",
    "                            'z': row['Pos_Z'],\n",
    "                            'length': 0,\n",
    "                            'width': 0,\n",
    "                            'height': 0,\n",
    "                            'heading': row['Heading']\n",
    "                           })\n",
    "    data = data.append(data_point, ignore_index=True)\n",
    "\n",
    "data.sort_values('frame_id', inplace=True)\n",
    "max_timesteps = data['frame_id'].max()"
   ]
  },
  {
   "cell_type": "markdown",
   "metadata": {},
   "source": [
    "# Create Nodes from DataFrame"
   ]
  },
  {
   "cell_type": "code",
   "execution_count": null,
   "metadata": {},
   "outputs": [],
   "source": [
    "scene = Scene(timesteps=max_timesteps + 1, dt=dt, name='default')\n",
    "scenes.append(scene)\n",
    "\n",
    "for node_id in pd.unique(data['node_id']):\n",
    "    node_frequency_multiplier = 1\n",
    "    node_df = data[data['node_id'] == node_id]\n",
    "\n",
    "    # If data is prepared correctly, this block should not trigger\n",
    "    if node_df['x'].shape[0] < 2:\n",
    "        print('Not enough', node_id)\n",
    "        continue\n",
    "\n",
    "    # If data is prepared correctly, this block should not trigger\n",
    "    if not np.all(np.diff(node_df['frame_id']) == 1):\n",
    "        print('Occlusion', node_id)\n",
    "        continue\n",
    "\n",
    "    node_values = node_df[['x', 'y']].values\n",
    "    x = node_values[:, 0]\n",
    "    y = node_values[:, 1]\n",
    "    heading = node_df['heading'].values\n",
    "\n",
    "    vx = derivative_of(x, scene.dt)\n",
    "    vy = derivative_of(y, scene.dt)\n",
    "    ax = derivative_of(vx, scene.dt)\n",
    "    ay = derivative_of(vy, scene.dt)\n",
    "\n",
    "    # Our data should only have VEHICLEs\n",
    "    if node_df.iloc[0]['type'] == env.NodeType.VEHICLE:\n",
    "        v = np.stack((vx, vy), axis=-1)\n",
    "        v_norm = np.linalg.norm(np.stack((vx, vy), axis=-1), axis=-1, keepdims=True)\n",
    "        heading_v = np.divide(v, v_norm, out=np.zeros_like(v), where=(v_norm > 1.))\n",
    "        heading_x = heading_v[:, 0]\n",
    "        heading_y = heading_v[:, 1]\n",
    "\n",
    "        data_dict = {('position', 'x'): x,\n",
    "                     ('position', 'y'): y,\n",
    "                     ('velocity', 'x'): vx,\n",
    "                     ('velocity', 'y'): vy,\n",
    "                     ('velocity', 'norm'): np.linalg.norm(np.stack((vx, vy), axis=-1), axis=-1),\n",
    "                     ('acceleration', 'x'): ax,\n",
    "                     ('acceleration', 'y'): ay,\n",
    "                     ('acceleration', 'norm'): np.linalg.norm(np.stack((ax, ay), axis=-1), axis=-1),\n",
    "                     ('heading', 'x'): heading_x,\n",
    "                     ('heading', 'y'): heading_y,\n",
    "                     ('heading', '°'): heading,\n",
    "                     ('heading', 'd°'): derivative_of(heading, dt, radian=True)}\n",
    "        node_data = pd.DataFrame(data_dict, columns=data_columns_vehicle)\n",
    "    else:\n",
    "        data_dict = {('position', 'x'): x,\n",
    "                     ('position', 'y'): y,\n",
    "                     ('velocity', 'x'): vx,\n",
    "                     ('velocity', 'y'): vy,\n",
    "                     ('acceleration', 'x'): ax,\n",
    "                     ('acceleration', 'y'): ay}\n",
    "        node_data = pd.DataFrame(data_dict, columns=data_columns_pedestrian)\n",
    "\n",
    "    node = Node(node_type=node_df.iloc[0]['type'], node_id=str(node_id), data=node_data, frequency_multiplier=node_frequency_multiplier)\n",
    "    node.first_timestep = node_df['frame_id'].iloc[0]\n",
    "\n",
    "    scene.nodes.append(node)"
   ]
  },
  {
   "cell_type": "markdown",
   "metadata": {},
   "source": [
    "# Write Environment as Pickle"
   ]
  },
  {
   "cell_type": "code",
   "execution_count": null,
   "metadata": {},
   "outputs": [],
   "source": [
    "env.scenes = scenes\n",
    "\n",
    "data_dict_path = os.path.join(OUTFILE)\n",
    "with open(data_dict_path, 'wb') as f:\n",
    "    dill.dump(env, f, protocol=dill.HIGHEST_PROTOCOL)\n",
    "print('Saved Environment!')"
   ]
  },
  {
   "cell_type": "code",
   "execution_count": null,
   "metadata": {},
   "outputs": [],
   "source": []
  }
 ],
 "metadata": {
  "kernelspec": {
   "display_name": "Python 3.6 (Trajectron++)",
   "language": "python",
   "name": "trajectronpp"
  },
  "language_info": {
   "codemirror_mode": {
    "name": "ipython",
    "version": 3
   },
   "file_extension": ".py",
   "mimetype": "text/x-python",
   "name": "python",
   "nbconvert_exporter": "python",
   "pygments_lexer": "ipython3",
   "version": "3.6.10"
  }
 },
 "nbformat": 4,
 "nbformat_minor": 4
}
